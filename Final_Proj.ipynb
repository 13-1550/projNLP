{
  "cells": [
    {
      "cell_type": "markdown",
      "metadata": {
        "id": "view-in-github",
        "colab_type": "text"
      },
      "source": [
        "<a href=\"https://colab.research.google.com/github/13-1550/projNLP/blob/main/Final_Proj.ipynb\" target=\"_parent\"><img src=\"https://colab.research.google.com/assets/colab-badge.svg\" alt=\"Open In Colab\"/></a>"
      ]
    },
    {
      "cell_type": "markdown",
      "metadata": {
        "id": "9tRSTUlojmYW"
      },
      "source": [
        "# **Cyber Bullying Detection**"
      ]
    },
    {
      "cell_type": "markdown",
      "metadata": {
        "id": "030bQAz5jyxd"
      },
      "source": [
        "By Using GapHate Corpus we imported data of catigorized tweets to train the data:\n",
        "\n",
        "-vo : violent language or context\n",
        "\n",
        "-hd : hate speech\n",
        "\n",
        "-cv : explicit calls to violence"
      ]
    },
    {
      "cell_type": "code",
      "execution_count": null,
      "metadata": {
        "colab": {
          "base_uri": "https://localhost:8080/"
        },
        "id": "a3e0ee93",
        "outputId": "07d27f32-6839-4010-8ba6-ebb71aca03c9",
        "scrolled": true
      },
      "outputs": [
        {
          "output_type": "stream",
          "name": "stdout",
          "text": [
            "Requirement already satisfied: scikit-learn in /usr/local/lib/python3.10/dist-packages (1.5.2)\n",
            "Requirement already satisfied: pandas in /usr/local/lib/python3.10/dist-packages (2.2.2)\n",
            "Requirement already satisfied: numpy>=1.19.5 in /usr/local/lib/python3.10/dist-packages (from scikit-learn) (1.26.4)\n",
            "Requirement already satisfied: scipy>=1.6.0 in /usr/local/lib/python3.10/dist-packages (from scikit-learn) (1.13.1)\n",
            "Requirement already satisfied: joblib>=1.2.0 in /usr/local/lib/python3.10/dist-packages (from scikit-learn) (1.4.2)\n",
            "Requirement already satisfied: threadpoolctl>=3.1.0 in /usr/local/lib/python3.10/dist-packages (from scikit-learn) (3.5.0)\n",
            "Requirement already satisfied: python-dateutil>=2.8.2 in /usr/local/lib/python3.10/dist-packages (from pandas) (2.8.2)\n",
            "Requirement already satisfied: pytz>=2020.1 in /usr/local/lib/python3.10/dist-packages (from pandas) (2024.2)\n",
            "Requirement already satisfied: tzdata>=2022.7 in /usr/local/lib/python3.10/dist-packages (from pandas) (2024.2)\n",
            "Requirement already satisfied: six>=1.5 in /usr/local/lib/python3.10/dist-packages (from python-dateutil>=2.8.2->pandas) (1.17.0)\n"
          ]
        }
      ],
      "source": [
        "!pip install scikit-learn pandas"
      ]
    },
    {
      "cell_type": "code",
      "execution_count": null,
      "metadata": {
        "colab": {
          "base_uri": "https://localhost:8080/"
        },
        "id": "FZ5pYhZcZccb",
        "outputId": "ad9f0ae4-5c57-43f4-bbf2-b64872214d15"
      },
      "outputs": [
        {
          "output_type": "stream",
          "name": "stdout",
          "text": [
            "Collecting ipython-autotime\n",
            "  Downloading ipython_autotime-0.3.2-py2.py3-none-any.whl.metadata (1.4 kB)\n",
            "Requirement already satisfied: ipython in /usr/local/lib/python3.10/dist-packages (from ipython-autotime) (7.34.0)\n",
            "Requirement already satisfied: setuptools>=18.5 in /usr/local/lib/python3.10/dist-packages (from ipython->ipython-autotime) (75.1.0)\n",
            "Collecting jedi>=0.16 (from ipython->ipython-autotime)\n",
            "  Downloading jedi-0.19.2-py2.py3-none-any.whl.metadata (22 kB)\n",
            "Requirement already satisfied: decorator in /usr/local/lib/python3.10/dist-packages (from ipython->ipython-autotime) (4.4.2)\n",
            "Requirement already satisfied: pickleshare in /usr/local/lib/python3.10/dist-packages (from ipython->ipython-autotime) (0.7.5)\n",
            "Requirement already satisfied: traitlets>=4.2 in /usr/local/lib/python3.10/dist-packages (from ipython->ipython-autotime) (5.7.1)\n",
            "Requirement already satisfied: prompt-toolkit!=3.0.0,!=3.0.1,<3.1.0,>=2.0.0 in /usr/local/lib/python3.10/dist-packages (from ipython->ipython-autotime) (3.0.48)\n",
            "Requirement already satisfied: pygments in /usr/local/lib/python3.10/dist-packages (from ipython->ipython-autotime) (2.18.0)\n",
            "Requirement already satisfied: backcall in /usr/local/lib/python3.10/dist-packages (from ipython->ipython-autotime) (0.2.0)\n",
            "Requirement already satisfied: matplotlib-inline in /usr/local/lib/python3.10/dist-packages (from ipython->ipython-autotime) (0.1.7)\n",
            "Requirement already satisfied: pexpect>4.3 in /usr/local/lib/python3.10/dist-packages (from ipython->ipython-autotime) (4.9.0)\n",
            "Requirement already satisfied: parso<0.9.0,>=0.8.4 in /usr/local/lib/python3.10/dist-packages (from jedi>=0.16->ipython->ipython-autotime) (0.8.4)\n",
            "Requirement already satisfied: ptyprocess>=0.5 in /usr/local/lib/python3.10/dist-packages (from pexpect>4.3->ipython->ipython-autotime) (0.7.0)\n",
            "Requirement already satisfied: wcwidth in /usr/local/lib/python3.10/dist-packages (from prompt-toolkit!=3.0.0,!=3.0.1,<3.1.0,>=2.0.0->ipython->ipython-autotime) (0.2.13)\n",
            "Downloading ipython_autotime-0.3.2-py2.py3-none-any.whl (7.0 kB)\n",
            "Downloading jedi-0.19.2-py2.py3-none-any.whl (1.6 MB)\n",
            "\u001b[2K   \u001b[90m━━━━━━━━━━━━━━━━━━━━━━━━━━━━━━━━━━━━━━━━\u001b[0m \u001b[32m1.6/1.6 MB\u001b[0m \u001b[31m18.0 MB/s\u001b[0m eta \u001b[36m0:00:00\u001b[0m\n",
            "\u001b[?25hInstalling collected packages: jedi, ipython-autotime\n",
            "Successfully installed ipython-autotime-0.3.2 jedi-0.19.2\n",
            "time: 395 µs (started: 2024-12-14 03:42:29 +00:00)\n"
          ]
        }
      ],
      "source": [
        "!pip install ipython-autotime\n",
        "%load_ext autotime"
      ]
    },
    {
      "cell_type": "code",
      "execution_count": null,
      "metadata": {
        "colab": {
          "base_uri": "https://localhost:8080/"
        },
        "id": "1XTA-OOMf0hG",
        "outputId": "4a5798d8-5d52-449f-d495-d3f1cf1a7daf"
      },
      "outputs": [
        {
          "output_type": "stream",
          "name": "stdout",
          "text": [
            "time: 895 ms (started: 2024-12-14 03:42:29 +00:00)\n"
          ]
        }
      ],
      "source": [
        "import pandas as pd"
      ]
    },
    {
      "cell_type": "code",
      "execution_count": null,
      "metadata": {
        "colab": {
          "base_uri": "https://localhost:8080/",
          "height": 380
        },
        "id": "L-WI9mDpslOX",
        "outputId": "1ab5c5a0-7d61-4743-ba20-a7e4d3dcbab5"
      },
      "outputs": [
        {
          "output_type": "execute_result",
          "data": {
            "text/plain": [
              "                                                   text  hd  cv  vo\n",
              "1394    So then God is not infinitely knowing and wise?   0   0   0\n",
              "2968                              any E-drummer around?   0   0   0\n",
              "3272  You're WIRED❗️ Did Omarosa break the law by se...   0   0   0\n",
              "3143  think the American people need some very evil ...   0   0   0\n",
              "1278          hahahaha! your humor is so believable.      0   0   0\n",
              "3741                      No, No, No ..I WANT NAMES ❕❕❕   0   0   0\n",
              "1948  Hitler didn’t start ww2.  England declared war...   0   0   0\n",
              "2685  Great Synopsis by Mark Dice...DEEP STATE/MSM/H...   0   0   0\n",
              "4714  I swear this heat has made people crazier than...   0   0   0\n",
              "4616           tHE TIMES THEY ARE A CHANGIN, winning!!    0   0   0"
            ],
            "text/html": [
              "\n",
              "  <div id=\"df-cdd02b62-e005-4ac8-a6c3-17c767892dcf\" class=\"colab-df-container\">\n",
              "    <div>\n",
              "<style scoped>\n",
              "    .dataframe tbody tr th:only-of-type {\n",
              "        vertical-align: middle;\n",
              "    }\n",
              "\n",
              "    .dataframe tbody tr th {\n",
              "        vertical-align: top;\n",
              "    }\n",
              "\n",
              "    .dataframe thead th {\n",
              "        text-align: right;\n",
              "    }\n",
              "</style>\n",
              "<table border=\"1\" class=\"dataframe\">\n",
              "  <thead>\n",
              "    <tr style=\"text-align: right;\">\n",
              "      <th></th>\n",
              "      <th>text</th>\n",
              "      <th>hd</th>\n",
              "      <th>cv</th>\n",
              "      <th>vo</th>\n",
              "    </tr>\n",
              "  </thead>\n",
              "  <tbody>\n",
              "    <tr>\n",
              "      <th>1394</th>\n",
              "      <td>So then God is not infinitely knowing and wise?</td>\n",
              "      <td>0</td>\n",
              "      <td>0</td>\n",
              "      <td>0</td>\n",
              "    </tr>\n",
              "    <tr>\n",
              "      <th>2968</th>\n",
              "      <td>any E-drummer around?</td>\n",
              "      <td>0</td>\n",
              "      <td>0</td>\n",
              "      <td>0</td>\n",
              "    </tr>\n",
              "    <tr>\n",
              "      <th>3272</th>\n",
              "      <td>You're WIRED❗️ Did Omarosa break the law by se...</td>\n",
              "      <td>0</td>\n",
              "      <td>0</td>\n",
              "      <td>0</td>\n",
              "    </tr>\n",
              "    <tr>\n",
              "      <th>3143</th>\n",
              "      <td>think the American people need some very evil ...</td>\n",
              "      <td>0</td>\n",
              "      <td>0</td>\n",
              "      <td>0</td>\n",
              "    </tr>\n",
              "    <tr>\n",
              "      <th>1278</th>\n",
              "      <td>hahahaha! your humor is so believable.</td>\n",
              "      <td>0</td>\n",
              "      <td>0</td>\n",
              "      <td>0</td>\n",
              "    </tr>\n",
              "    <tr>\n",
              "      <th>3741</th>\n",
              "      <td>No, No, No ..I WANT NAMES ❕❕❕</td>\n",
              "      <td>0</td>\n",
              "      <td>0</td>\n",
              "      <td>0</td>\n",
              "    </tr>\n",
              "    <tr>\n",
              "      <th>1948</th>\n",
              "      <td>Hitler didn’t start ww2.  England declared war...</td>\n",
              "      <td>0</td>\n",
              "      <td>0</td>\n",
              "      <td>0</td>\n",
              "    </tr>\n",
              "    <tr>\n",
              "      <th>2685</th>\n",
              "      <td>Great Synopsis by Mark Dice...DEEP STATE/MSM/H...</td>\n",
              "      <td>0</td>\n",
              "      <td>0</td>\n",
              "      <td>0</td>\n",
              "    </tr>\n",
              "    <tr>\n",
              "      <th>4714</th>\n",
              "      <td>I swear this heat has made people crazier than...</td>\n",
              "      <td>0</td>\n",
              "      <td>0</td>\n",
              "      <td>0</td>\n",
              "    </tr>\n",
              "    <tr>\n",
              "      <th>4616</th>\n",
              "      <td>tHE TIMES THEY ARE A CHANGIN, winning!!</td>\n",
              "      <td>0</td>\n",
              "      <td>0</td>\n",
              "      <td>0</td>\n",
              "    </tr>\n",
              "  </tbody>\n",
              "</table>\n",
              "</div>\n",
              "    <div class=\"colab-df-buttons\">\n",
              "\n",
              "  <div class=\"colab-df-container\">\n",
              "    <button class=\"colab-df-convert\" onclick=\"convertToInteractive('df-cdd02b62-e005-4ac8-a6c3-17c767892dcf')\"\n",
              "            title=\"Convert this dataframe to an interactive table.\"\n",
              "            style=\"display:none;\">\n",
              "\n",
              "  <svg xmlns=\"http://www.w3.org/2000/svg\" height=\"24px\" viewBox=\"0 -960 960 960\">\n",
              "    <path d=\"M120-120v-720h720v720H120Zm60-500h600v-160H180v160Zm220 220h160v-160H400v160Zm0 220h160v-160H400v160ZM180-400h160v-160H180v160Zm440 0h160v-160H620v160ZM180-180h160v-160H180v160Zm440 0h160v-160H620v160Z\"/>\n",
              "  </svg>\n",
              "    </button>\n",
              "\n",
              "  <style>\n",
              "    .colab-df-container {\n",
              "      display:flex;\n",
              "      gap: 12px;\n",
              "    }\n",
              "\n",
              "    .colab-df-convert {\n",
              "      background-color: #E8F0FE;\n",
              "      border: none;\n",
              "      border-radius: 50%;\n",
              "      cursor: pointer;\n",
              "      display: none;\n",
              "      fill: #1967D2;\n",
              "      height: 32px;\n",
              "      padding: 0 0 0 0;\n",
              "      width: 32px;\n",
              "    }\n",
              "\n",
              "    .colab-df-convert:hover {\n",
              "      background-color: #E2EBFA;\n",
              "      box-shadow: 0px 1px 2px rgba(60, 64, 67, 0.3), 0px 1px 3px 1px rgba(60, 64, 67, 0.15);\n",
              "      fill: #174EA6;\n",
              "    }\n",
              "\n",
              "    .colab-df-buttons div {\n",
              "      margin-bottom: 4px;\n",
              "    }\n",
              "\n",
              "    [theme=dark] .colab-df-convert {\n",
              "      background-color: #3B4455;\n",
              "      fill: #D2E3FC;\n",
              "    }\n",
              "\n",
              "    [theme=dark] .colab-df-convert:hover {\n",
              "      background-color: #434B5C;\n",
              "      box-shadow: 0px 1px 3px 1px rgba(0, 0, 0, 0.15);\n",
              "      filter: drop-shadow(0px 1px 2px rgba(0, 0, 0, 0.3));\n",
              "      fill: #FFFFFF;\n",
              "    }\n",
              "  </style>\n",
              "\n",
              "    <script>\n",
              "      const buttonEl =\n",
              "        document.querySelector('#df-cdd02b62-e005-4ac8-a6c3-17c767892dcf button.colab-df-convert');\n",
              "      buttonEl.style.display =\n",
              "        google.colab.kernel.accessAllowed ? 'block' : 'none';\n",
              "\n",
              "      async function convertToInteractive(key) {\n",
              "        const element = document.querySelector('#df-cdd02b62-e005-4ac8-a6c3-17c767892dcf');\n",
              "        const dataTable =\n",
              "          await google.colab.kernel.invokeFunction('convertToInteractive',\n",
              "                                                    [key], {});\n",
              "        if (!dataTable) return;\n",
              "\n",
              "        const docLinkHtml = 'Like what you see? Visit the ' +\n",
              "          '<a target=\"_blank\" href=https://colab.research.google.com/notebooks/data_table.ipynb>data table notebook</a>'\n",
              "          + ' to learn more about interactive tables.';\n",
              "        element.innerHTML = '';\n",
              "        dataTable['output_type'] = 'display_data';\n",
              "        await google.colab.output.renderOutput(dataTable, element);\n",
              "        const docLink = document.createElement('div');\n",
              "        docLink.innerHTML = docLinkHtml;\n",
              "        element.appendChild(docLink);\n",
              "      }\n",
              "    </script>\n",
              "  </div>\n",
              "\n",
              "\n",
              "<div id=\"df-fc465664-5695-4398-b478-587ef7e491ea\">\n",
              "  <button class=\"colab-df-quickchart\" onclick=\"quickchart('df-fc465664-5695-4398-b478-587ef7e491ea')\"\n",
              "            title=\"Suggest charts\"\n",
              "            style=\"display:none;\">\n",
              "\n",
              "<svg xmlns=\"http://www.w3.org/2000/svg\" height=\"24px\"viewBox=\"0 0 24 24\"\n",
              "     width=\"24px\">\n",
              "    <g>\n",
              "        <path d=\"M19 3H5c-1.1 0-2 .9-2 2v14c0 1.1.9 2 2 2h14c1.1 0 2-.9 2-2V5c0-1.1-.9-2-2-2zM9 17H7v-7h2v7zm4 0h-2V7h2v10zm4 0h-2v-4h2v4z\"/>\n",
              "    </g>\n",
              "</svg>\n",
              "  </button>\n",
              "\n",
              "<style>\n",
              "  .colab-df-quickchart {\n",
              "      --bg-color: #E8F0FE;\n",
              "      --fill-color: #1967D2;\n",
              "      --hover-bg-color: #E2EBFA;\n",
              "      --hover-fill-color: #174EA6;\n",
              "      --disabled-fill-color: #AAA;\n",
              "      --disabled-bg-color: #DDD;\n",
              "  }\n",
              "\n",
              "  [theme=dark] .colab-df-quickchart {\n",
              "      --bg-color: #3B4455;\n",
              "      --fill-color: #D2E3FC;\n",
              "      --hover-bg-color: #434B5C;\n",
              "      --hover-fill-color: #FFFFFF;\n",
              "      --disabled-bg-color: #3B4455;\n",
              "      --disabled-fill-color: #666;\n",
              "  }\n",
              "\n",
              "  .colab-df-quickchart {\n",
              "    background-color: var(--bg-color);\n",
              "    border: none;\n",
              "    border-radius: 50%;\n",
              "    cursor: pointer;\n",
              "    display: none;\n",
              "    fill: var(--fill-color);\n",
              "    height: 32px;\n",
              "    padding: 0;\n",
              "    width: 32px;\n",
              "  }\n",
              "\n",
              "  .colab-df-quickchart:hover {\n",
              "    background-color: var(--hover-bg-color);\n",
              "    box-shadow: 0 1px 2px rgba(60, 64, 67, 0.3), 0 1px 3px 1px rgba(60, 64, 67, 0.15);\n",
              "    fill: var(--button-hover-fill-color);\n",
              "  }\n",
              "\n",
              "  .colab-df-quickchart-complete:disabled,\n",
              "  .colab-df-quickchart-complete:disabled:hover {\n",
              "    background-color: var(--disabled-bg-color);\n",
              "    fill: var(--disabled-fill-color);\n",
              "    box-shadow: none;\n",
              "  }\n",
              "\n",
              "  .colab-df-spinner {\n",
              "    border: 2px solid var(--fill-color);\n",
              "    border-color: transparent;\n",
              "    border-bottom-color: var(--fill-color);\n",
              "    animation:\n",
              "      spin 1s steps(1) infinite;\n",
              "  }\n",
              "\n",
              "  @keyframes spin {\n",
              "    0% {\n",
              "      border-color: transparent;\n",
              "      border-bottom-color: var(--fill-color);\n",
              "      border-left-color: var(--fill-color);\n",
              "    }\n",
              "    20% {\n",
              "      border-color: transparent;\n",
              "      border-left-color: var(--fill-color);\n",
              "      border-top-color: var(--fill-color);\n",
              "    }\n",
              "    30% {\n",
              "      border-color: transparent;\n",
              "      border-left-color: var(--fill-color);\n",
              "      border-top-color: var(--fill-color);\n",
              "      border-right-color: var(--fill-color);\n",
              "    }\n",
              "    40% {\n",
              "      border-color: transparent;\n",
              "      border-right-color: var(--fill-color);\n",
              "      border-top-color: var(--fill-color);\n",
              "    }\n",
              "    60% {\n",
              "      border-color: transparent;\n",
              "      border-right-color: var(--fill-color);\n",
              "    }\n",
              "    80% {\n",
              "      border-color: transparent;\n",
              "      border-right-color: var(--fill-color);\n",
              "      border-bottom-color: var(--fill-color);\n",
              "    }\n",
              "    90% {\n",
              "      border-color: transparent;\n",
              "      border-bottom-color: var(--fill-color);\n",
              "    }\n",
              "  }\n",
              "</style>\n",
              "\n",
              "  <script>\n",
              "    async function quickchart(key) {\n",
              "      const quickchartButtonEl =\n",
              "        document.querySelector('#' + key + ' button');\n",
              "      quickchartButtonEl.disabled = true;  // To prevent multiple clicks.\n",
              "      quickchartButtonEl.classList.add('colab-df-spinner');\n",
              "      try {\n",
              "        const charts = await google.colab.kernel.invokeFunction(\n",
              "            'suggestCharts', [key], {});\n",
              "      } catch (error) {\n",
              "        console.error('Error during call to suggestCharts:', error);\n",
              "      }\n",
              "      quickchartButtonEl.classList.remove('colab-df-spinner');\n",
              "      quickchartButtonEl.classList.add('colab-df-quickchart-complete');\n",
              "    }\n",
              "    (() => {\n",
              "      let quickchartButtonEl =\n",
              "        document.querySelector('#df-fc465664-5695-4398-b478-587ef7e491ea button');\n",
              "      quickchartButtonEl.style.display =\n",
              "        google.colab.kernel.accessAllowed ? 'block' : 'none';\n",
              "    })();\n",
              "  </script>\n",
              "</div>\n",
              "\n",
              "    </div>\n",
              "  </div>\n"
            ],
            "application/vnd.google.colaboratory.intrinsic+json": {
              "type": "dataframe",
              "summary": "{\n  \"name\": \"test\",\n  \"rows\": 10,\n  \"fields\": [\n    {\n      \"column\": \"text\",\n      \"properties\": {\n        \"dtype\": \"string\",\n        \"num_unique_values\": 10,\n        \"samples\": [\n          \"I swear this heat has made people crazier than ever.I was yelled at by a costumer for being too polite when I was trying to help him.That's a first.\",\n          \"any E-drummer around?\",\n          \"No, No, No ..I WANT NAMES \\u2755\\u2755\\u2755\"\n        ],\n        \"semantic_type\": \"\",\n        \"description\": \"\"\n      }\n    },\n    {\n      \"column\": \"hd\",\n      \"properties\": {\n        \"dtype\": \"number\",\n        \"std\": 0,\n        \"min\": 0,\n        \"max\": 0,\n        \"num_unique_values\": 1,\n        \"samples\": [\n          0\n        ],\n        \"semantic_type\": \"\",\n        \"description\": \"\"\n      }\n    },\n    {\n      \"column\": \"cv\",\n      \"properties\": {\n        \"dtype\": \"number\",\n        \"std\": 0,\n        \"min\": 0,\n        \"max\": 0,\n        \"num_unique_values\": 1,\n        \"samples\": [\n          0\n        ],\n        \"semantic_type\": \"\",\n        \"description\": \"\"\n      }\n    },\n    {\n      \"column\": \"vo\",\n      \"properties\": {\n        \"dtype\": \"number\",\n        \"std\": 0,\n        \"min\": 0,\n        \"max\": 0,\n        \"num_unique_values\": 1,\n        \"samples\": [\n          0\n        ],\n        \"semantic_type\": \"\",\n        \"description\": \"\"\n      }\n    }\n  ]\n}"
            }
          },
          "metadata": {},
          "execution_count": 4
        },
        {
          "output_type": "stream",
          "name": "stdout",
          "text": [
            "time: 183 ms (started: 2024-12-14 03:42:30 +00:00)\n"
          ]
        }
      ],
      "source": [
        "#dataset\n",
        "train = pd.read_csv('ghc_train.tsv', sep='\\t')\n",
        "test = pd.read_csv('ghc_test.tsv', sep='\\t')\n",
        "test.sample(10)"
      ]
    },
    {
      "cell_type": "code",
      "execution_count": null,
      "metadata": {
        "id": "26e13e03"
      },
      "outputs": [],
      "source": [
        "from sklearn.feature_extraction.text import CountVectorizer\n",
        "from sklearn.feature_extraction.text import TfidfVectorizer #\n",
        "from sklearn.feature_extraction.text import TfidfTransformer\n",
        "from sklearn.linear_model import SGDClassifier\n",
        "from sklearn.pipeline import Pipeline\n",
        "from sklearn.multioutput import MultiOutputClassifier\n",
        "from sklearn import metrics"
      ]
    },
    {
      "cell_type": "markdown",
      "metadata": {
        "id": "VcMq0izaAJ_s"
      },
      "source": [
        "Enhancing sentimental analysis"
      ]
    },
    {
      "cell_type": "markdown",
      "metadata": {
        "id": "fNUvbHt1-Db3"
      },
      "source": []
    },
    {
      "cell_type": "code",
      "execution_count": 6,
      "metadata": {
        "colab": {
          "base_uri": "https://localhost:8080/"
        },
        "id": "yiR4utNLynYo",
        "outputId": "56145921-ef8f-4da4-8102-4717e458e6c3"
      },
      "outputs": [
        {
          "metadata": {
            "tags": null
          },
          "name": "stdout",
          "output_type": "stream",
          "text": [
            "Requirement already satisfied: transformers in /usr/local/lib/python3.10/dist-packages (4.46.3)\n",
            "Requirement already satisfied: torch in /usr/local/lib/python3.10/dist-packages (2.5.1+cu121)\n",
            "Requirement already satisfied: filelock in /usr/local/lib/python3.10/dist-packages (from transformers) (3.16.1)\n",
            "Requirement already satisfied: huggingface-hub<1.0,>=0.23.2 in /usr/local/lib/python3.10/dist-packages (from transformers) (0.26.5)\n",
            "Requirement already satisfied: numpy>=1.17 in /usr/local/lib/python3.10/dist-packages (from transformers) (1.26.4)\n",
            "Requirement already satisfied: packaging>=20.0 in /usr/local/lib/python3.10/dist-packages (from transformers) (24.2)\n",
            "Requirement already satisfied: pyyaml>=5.1 in /usr/local/lib/python3.10/dist-packages (from transformers) (6.0.2)\n",
            "Requirement already satisfied: regex!=2019.12.17 in /usr/local/lib/python3.10/dist-packages (from transformers) (2024.9.11)\n",
            "Requirement already satisfied: requests in /usr/local/lib/python3.10/dist-packages (from transformers) (2.32.3)\n",
            "Requirement already satisfied: tokenizers<0.21,>=0.20 in /usr/local/lib/python3.10/dist-packages (from transformers) (0.20.3)\n",
            "Requirement already satisfied: safetensors>=0.4.1 in /usr/local/lib/python3.10/dist-packages (from transformers) (0.4.5)\n",
            "Requirement already satisfied: tqdm>=4.27 in /usr/local/lib/python3.10/dist-packages (from transformers) (4.66.6)\n",
            "Requirement already satisfied: typing-extensions>=4.8.0 in /usr/local/lib/python3.10/dist-packages (from torch) (4.12.2)\n",
            "Requirement already satisfied: networkx in /usr/local/lib/python3.10/dist-packages (from torch) (3.4.2)\n",
            "Requirement already satisfied: jinja2 in /usr/local/lib/python3.10/dist-packages (from torch) (3.1.4)\n",
            "Requirement already satisfied: fsspec in /usr/local/lib/python3.10/dist-packages (from torch) (2024.10.0)\n",
            "Requirement already satisfied: sympy==1.13.1 in /usr/local/lib/python3.10/dist-packages (from torch) (1.13.1)\n",
            "Requirement already satisfied: mpmath<1.4,>=1.1.0 in /usr/local/lib/python3.10/dist-packages (from sympy==1.13.1->torch) (1.3.0)\n",
            "Requirement already satisfied: MarkupSafe>=2.0 in /usr/local/lib/python3.10/dist-packages (from jinja2->torch) (3.0.2)\n",
            "Requirement already satisfied: charset-normalizer<4,>=2 in /usr/local/lib/python3.10/dist-packages (from requests->transformers) (3.4.0)\n",
            "Requirement already satisfied: idna<4,>=2.5 in /usr/local/lib/python3.10/dist-packages (from requests->transformers) (3.10)\n",
            "Requirement already satisfied: urllib3<3,>=1.21.1 in /usr/local/lib/python3.10/dist-packages (from requests->transformers) (2.2.3)\n",
            "Requirement already satisfied: certifi>=2017.4.17 in /usr/local/lib/python3.10/dist-packages (from requests->transformers) (2024.8.30)\n",
            "time: 30 s (started: 2024-12-14 03:42:41 +00:00)\n"
          ]
        }
      ],
      "source": [
        "\n",
        "!pip install transformers torch\n",
        "from transformers import pipeline"
      ]
    },
    {
      "cell_type": "code",
      "execution_count": 7,
      "metadata": {
        "colab": {
          "base_uri": "https://localhost:8080/"
        },
        "id": "gRUZiY9iAItT",
        "outputId": "e2ef9301-fb73-41f2-8992-adff63fb3767"
      },
      "outputs": [
        {
          "metadata": {
            "tags": null
          },
          "name": "stdout",
          "output_type": "stream",
          "text": [
            "Requirement already satisfied: textblob in /usr/local/lib/python3.10/dist-packages (0.17.1)\n",
            "Requirement already satisfied: nltk>=3.1 in /usr/local/lib/python3.10/dist-packages (from textblob) (3.9.1)\n",
            "Requirement already satisfied: click in /usr/local/lib/python3.10/dist-packages (from nltk>=3.1->textblob) (8.1.7)\n",
            "Requirement already satisfied: joblib in /usr/local/lib/python3.10/dist-packages (from nltk>=3.1->textblob) (1.4.2)\n",
            "Requirement already satisfied: regex>=2021.8.3 in /usr/local/lib/python3.10/dist-packages (from nltk>=3.1->textblob) (2024.9.11)\n",
            "Requirement already satisfied: tqdm in /usr/local/lib/python3.10/dist-packages (from nltk>=3.1->textblob) (4.66.6)\n",
            "time: 3.62 s (started: 2024-12-14 03:43:11 +00:00)\n"
          ]
        }
      ],
      "source": [
        "pip install textblob"
      ]
    },
    {
      "cell_type": "code",
      "execution_count": 9,
      "metadata": {
        "colab": {
          "base_uri": "https://localhost:8080/"
        },
        "id": "pQbqxVgkAbeT",
        "outputId": "a513937a-dc19-4f37-88af-35989bb55926"
      },
      "outputs": [
        {
          "output_type": "stream",
          "name": "stdout",
          "text": [
            "time: 41min 30s (started: 2024-12-14 03:48:06 +00:00)\n"
          ]
        }
      ],
      "source": [
        "from textblob import TextBlob\n",
        "\n",
        "sentiment_analyzer = pipeline(\"sentiment-analysis\", model=\"distilbert-base-uncased-finetuned-sst-2-english\")\n",
        "\n",
        "# get only negative sentiment\n",
        "def filter_negative_sentiments(texts):\n",
        "    results = sentiment_analyzer(texts)\n",
        "    negative_texts = [text for text, result in zip(texts, results) if result['label'] == 'NEGATIVE']\n",
        "    return negative_texts\n",
        "\n",
        "\n",
        "# BERT sentiment analysis to filter for negative sentiments\n",
        "train_negative_texts = filter_negative_sentiments(train['text'].tolist())\n",
        "test_negative_texts = filter_negative_sentiments(test['text'].tolist())\n",
        "\n",
        "# Update the training and test data to only include negative sentiment texts\n",
        "train = train[train['text'].isin(train_negative_texts)]\n",
        "test = test[test['text'].isin(test_negative_texts)]\n",
        "\n",
        "\n"
      ]
    },
    {
      "cell_type": "markdown",
      "metadata": {
        "id": "STNVStFIjUpW"
      },
      "source": [
        "# **Preprocessing**"
      ]
    },
    {
      "cell_type": "code",
      "execution_count": 10,
      "metadata": {
        "id": "6rOVe3E61Taq",
        "colab": {
          "base_uri": "https://localhost:8080/"
        },
        "outputId": "5340e488-107c-451b-e59b-54ff2603ea95"
      },
      "outputs": [
        {
          "output_type": "stream",
          "name": "stdout",
          "text": [
            "time: 157 ms (started: 2024-12-14 04:29:37 +00:00)\n"
          ]
        },
        {
          "output_type": "stream",
          "name": "stderr",
          "text": [
            "<ipython-input-10-5c1871b36105>:12: SettingWithCopyWarning: \n",
            "A value is trying to be set on a copy of a slice from a DataFrame.\n",
            "Try using .loc[row_indexer,col_indexer] = value instead\n",
            "\n",
            "See the caveats in the documentation: https://pandas.pydata.org/pandas-docs/stable/user_guide/indexing.html#returning-a-view-versus-a-copy\n",
            "  train['text'] = train['text'].apply(preprocess_text)\n",
            "<ipython-input-10-5c1871b36105>:13: SettingWithCopyWarning: \n",
            "A value is trying to be set on a copy of a slice from a DataFrame.\n",
            "Try using .loc[row_indexer,col_indexer] = value instead\n",
            "\n",
            "See the caveats in the documentation: https://pandas.pydata.org/pandas-docs/stable/user_guide/indexing.html#returning-a-view-versus-a-copy\n",
            "  test['text'] = test['text'].apply(preprocess_text)\n"
          ]
        }
      ],
      "source": [
        "#removing URLS an special char\n",
        "import re\n",
        "\n",
        "def preprocess_text(text):\n",
        "\n",
        "    text = re.sub(r'http\\S+|www\\S+', '', text)\n",
        "    text = re.sub(r'[^a-zA-Z\\s]', '', text)\n",
        "    text = text.strip()\n",
        "    return text\n",
        "\n",
        "#preprocessing\n",
        "train['text'] = train['text'].apply(preprocess_text)\n",
        "test['text'] = test['text'].apply(preprocess_text)\n",
        "\n"
      ]
    },
    {
      "cell_type": "code",
      "execution_count": 11,
      "metadata": {
        "id": "A-FBKC-MtkPG",
        "colab": {
          "base_uri": "https://localhost:8080/"
        },
        "outputId": "bd1ae197-da62-4d03-f2c1-a7a8881c478b"
      },
      "outputs": [
        {
          "output_type": "stream",
          "name": "stdout",
          "text": [
            "Requirement already satisfied: nltk in /usr/local/lib/python3.10/dist-packages (3.9.1)\n",
            "Requirement already satisfied: spacy in /usr/local/lib/python3.10/dist-packages (3.7.5)\n",
            "Requirement already satisfied: gensim in /usr/local/lib/python3.10/dist-packages (4.3.3)\n",
            "Requirement already satisfied: click in /usr/local/lib/python3.10/dist-packages (from nltk) (8.1.7)\n",
            "Requirement already satisfied: joblib in /usr/local/lib/python3.10/dist-packages (from nltk) (1.4.2)\n",
            "Requirement already satisfied: regex>=2021.8.3 in /usr/local/lib/python3.10/dist-packages (from nltk) (2024.9.11)\n",
            "Requirement already satisfied: tqdm in /usr/local/lib/python3.10/dist-packages (from nltk) (4.66.6)\n",
            "Requirement already satisfied: spacy-legacy<3.1.0,>=3.0.11 in /usr/local/lib/python3.10/dist-packages (from spacy) (3.0.12)\n",
            "Requirement already satisfied: spacy-loggers<2.0.0,>=1.0.0 in /usr/local/lib/python3.10/dist-packages (from spacy) (1.0.5)\n",
            "Requirement already satisfied: murmurhash<1.1.0,>=0.28.0 in /usr/local/lib/python3.10/dist-packages (from spacy) (1.0.11)\n",
            "Requirement already satisfied: cymem<2.1.0,>=2.0.2 in /usr/local/lib/python3.10/dist-packages (from spacy) (2.0.10)\n",
            "Requirement already satisfied: preshed<3.1.0,>=3.0.2 in /usr/local/lib/python3.10/dist-packages (from spacy) (3.0.9)\n",
            "Requirement already satisfied: thinc<8.3.0,>=8.2.2 in /usr/local/lib/python3.10/dist-packages (from spacy) (8.2.5)\n",
            "Requirement already satisfied: wasabi<1.2.0,>=0.9.1 in /usr/local/lib/python3.10/dist-packages (from spacy) (1.1.3)\n",
            "Requirement already satisfied: srsly<3.0.0,>=2.4.3 in /usr/local/lib/python3.10/dist-packages (from spacy) (2.5.0)\n",
            "Requirement already satisfied: catalogue<2.1.0,>=2.0.6 in /usr/local/lib/python3.10/dist-packages (from spacy) (2.0.10)\n",
            "Requirement already satisfied: weasel<0.5.0,>=0.1.0 in /usr/local/lib/python3.10/dist-packages (from spacy) (0.4.1)\n",
            "Requirement already satisfied: typer<1.0.0,>=0.3.0 in /usr/local/lib/python3.10/dist-packages (from spacy) (0.15.1)\n",
            "Requirement already satisfied: requests<3.0.0,>=2.13.0 in /usr/local/lib/python3.10/dist-packages (from spacy) (2.32.3)\n",
            "Requirement already satisfied: pydantic!=1.8,!=1.8.1,<3.0.0,>=1.7.4 in /usr/local/lib/python3.10/dist-packages (from spacy) (2.10.3)\n",
            "Requirement already satisfied: jinja2 in /usr/local/lib/python3.10/dist-packages (from spacy) (3.1.4)\n",
            "Requirement already satisfied: setuptools in /usr/local/lib/python3.10/dist-packages (from spacy) (75.1.0)\n",
            "Requirement already satisfied: packaging>=20.0 in /usr/local/lib/python3.10/dist-packages (from spacy) (24.2)\n",
            "Requirement already satisfied: langcodes<4.0.0,>=3.2.0 in /usr/local/lib/python3.10/dist-packages (from spacy) (3.5.0)\n",
            "Requirement already satisfied: numpy>=1.19.0 in /usr/local/lib/python3.10/dist-packages (from spacy) (1.26.4)\n",
            "Requirement already satisfied: scipy<1.14.0,>=1.7.0 in /usr/local/lib/python3.10/dist-packages (from gensim) (1.13.1)\n",
            "Requirement already satisfied: smart-open>=1.8.1 in /usr/local/lib/python3.10/dist-packages (from gensim) (7.0.5)\n",
            "Requirement already satisfied: language-data>=1.2 in /usr/local/lib/python3.10/dist-packages (from langcodes<4.0.0,>=3.2.0->spacy) (1.3.0)\n",
            "Requirement already satisfied: annotated-types>=0.6.0 in /usr/local/lib/python3.10/dist-packages (from pydantic!=1.8,!=1.8.1,<3.0.0,>=1.7.4->spacy) (0.7.0)\n",
            "Requirement already satisfied: pydantic-core==2.27.1 in /usr/local/lib/python3.10/dist-packages (from pydantic!=1.8,!=1.8.1,<3.0.0,>=1.7.4->spacy) (2.27.1)\n",
            "Requirement already satisfied: typing-extensions>=4.12.2 in /usr/local/lib/python3.10/dist-packages (from pydantic!=1.8,!=1.8.1,<3.0.0,>=1.7.4->spacy) (4.12.2)\n",
            "Requirement already satisfied: charset-normalizer<4,>=2 in /usr/local/lib/python3.10/dist-packages (from requests<3.0.0,>=2.13.0->spacy) (3.4.0)\n",
            "Requirement already satisfied: idna<4,>=2.5 in /usr/local/lib/python3.10/dist-packages (from requests<3.0.0,>=2.13.0->spacy) (3.10)\n",
            "Requirement already satisfied: urllib3<3,>=1.21.1 in /usr/local/lib/python3.10/dist-packages (from requests<3.0.0,>=2.13.0->spacy) (2.2.3)\n",
            "Requirement already satisfied: certifi>=2017.4.17 in /usr/local/lib/python3.10/dist-packages (from requests<3.0.0,>=2.13.0->spacy) (2024.8.30)\n",
            "Requirement already satisfied: wrapt in /usr/local/lib/python3.10/dist-packages (from smart-open>=1.8.1->gensim) (1.17.0)\n",
            "Requirement already satisfied: blis<0.8.0,>=0.7.8 in /usr/local/lib/python3.10/dist-packages (from thinc<8.3.0,>=8.2.2->spacy) (0.7.11)\n",
            "Requirement already satisfied: confection<1.0.0,>=0.0.1 in /usr/local/lib/python3.10/dist-packages (from thinc<8.3.0,>=8.2.2->spacy) (0.1.5)\n",
            "Requirement already satisfied: shellingham>=1.3.0 in /usr/local/lib/python3.10/dist-packages (from typer<1.0.0,>=0.3.0->spacy) (1.5.4)\n",
            "Requirement already satisfied: rich>=10.11.0 in /usr/local/lib/python3.10/dist-packages (from typer<1.0.0,>=0.3.0->spacy) (13.9.4)\n",
            "Requirement already satisfied: cloudpathlib<1.0.0,>=0.7.0 in /usr/local/lib/python3.10/dist-packages (from weasel<0.5.0,>=0.1.0->spacy) (0.20.0)\n",
            "Requirement already satisfied: MarkupSafe>=2.0 in /usr/local/lib/python3.10/dist-packages (from jinja2->spacy) (3.0.2)\n",
            "Requirement already satisfied: marisa-trie>=1.1.0 in /usr/local/lib/python3.10/dist-packages (from language-data>=1.2->langcodes<4.0.0,>=3.2.0->spacy) (1.2.1)\n",
            "Requirement already satisfied: markdown-it-py>=2.2.0 in /usr/local/lib/python3.10/dist-packages (from rich>=10.11.0->typer<1.0.0,>=0.3.0->spacy) (3.0.0)\n",
            "Requirement already satisfied: pygments<3.0.0,>=2.13.0 in /usr/local/lib/python3.10/dist-packages (from rich>=10.11.0->typer<1.0.0,>=0.3.0->spacy) (2.18.0)\n",
            "Requirement already satisfied: mdurl~=0.1 in /usr/local/lib/python3.10/dist-packages (from markdown-it-py>=2.2.0->rich>=10.11.0->typer<1.0.0,>=0.3.0->spacy) (0.1.2)\n",
            "time: 3.24 s (started: 2024-12-14 04:29:37 +00:00)\n"
          ]
        }
      ],
      "source": [
        "!pip install nltk spacy gensim"
      ]
    },
    {
      "cell_type": "code",
      "execution_count": 12,
      "metadata": {
        "colab": {
          "base_uri": "https://localhost:8080/"
        },
        "id": "C0ocZ3HrgDoc",
        "outputId": "bedc6429-e108-4599-b4c8-9d13362c72ac"
      },
      "outputs": [
        {
          "output_type": "stream",
          "name": "stderr",
          "text": [
            "[nltk_data] Downloading package punkt_tab to /root/nltk_data...\n",
            "[nltk_data]   Unzipping tokenizers/punkt_tab.zip.\n",
            "[nltk_data] Downloading package stopwords to /root/nltk_data...\n",
            "[nltk_data]   Unzipping corpora/stopwords.zip.\n"
          ]
        },
        {
          "output_type": "stream",
          "name": "stdout",
          "text": [
            "                                                text  \\\n",
            "0  He most likely converted to islam due to his n...   \n",
            "1  So Ford lied about being a psychologist. Recor...   \n",
            "2     Jobs. Education. Ending abuse of Nation. CA43.   \n",
            "3  I share a lot of your values, & like many who ...   \n",
            "4  I am so ready to get back to blogging! www.ben...   \n",
            "\n",
            "                                      processed_text  \\\n",
            "0  [like, convert, islam, due, natur, suitabl, is...   \n",
            "1  [ford, lie, psychologist, record, seem, indic,...   \n",
            "2               [job, educ, end, abus, nation, ca43]   \n",
            "3  [share, lot, valu, like, mani, nt, call, alt, ...   \n",
            "4  [readi, get, back, blog, wwwbenbrihousecom, re...   \n",
            "\n",
            "                                          embeddings  \n",
            "0  [[-0.45503098, 0.70943093, 0.5025632, 0.064086...  \n",
            "1  [[-0.121172994, 0.3215318, 0.24910592, 0.11978...  \n",
            "2  [[-0.21044908, 0.5901213, 0.4308457, 0.1638194...  \n",
            "3  [[-0.27743575, 0.49964428, 0.3596858, 0.103718...  \n",
            "4  [[-0.15189637, 0.33469188, 0.24655932, 0.09847...  \n",
            "time: 2min 17s (started: 2024-12-14 04:29:40 +00:00)\n"
          ]
        }
      ],
      "source": [
        "import pandas as pd\n",
        "import nltk\n",
        "import re\n",
        "from nltk.tokenize import word_tokenize\n",
        "from nltk.stem import PorterStemmer\n",
        "from nltk.corpus import stopwords\n",
        "from gensim.models import Word2Vec\n",
        "\n",
        "\n",
        "train = pd.read_csv('ghc_train.tsv', sep='\\t')\n",
        "test = pd.read_csv('ghc_test.tsv', sep='\\t')\n",
        "\n",
        "nltk.download('punkt_tab')\n",
        "nltk.download('stopwords')\n",
        "\n",
        "# Preprocessing Pipeline\n",
        "def preprocess_text(text):\n",
        "    #  Tokenization\n",
        "    tokens = word_tokenize(text)\n",
        "\n",
        "    # normalization: Lowercasing and removing punctuation\n",
        "    normalized = [re.sub(r'[^\\w\\s]', '', token.lower()) for token in tokens]\n",
        "\n",
        "    #  removing stopwords\n",
        "    filtered = [word for word in normalized if word not in stopwords.words('english') and word != '']\n",
        "\n",
        "    # 4. Stemming\n",
        "    stemmer = PorterStemmer()\n",
        "    stemmed = [stemmer.stem(word) for word in filtered]\n",
        "\n",
        "    return stemmed\n",
        "\n",
        "# Preprocessing\n",
        "train['processed_text'] = train['text'].apply(preprocess_text)\n",
        "test['processed_text'] = test['text'].apply(preprocess_text)\n",
        "\n",
        "# Word2Vec\n",
        "all_sentences = train['processed_text'].tolist() + test['processed_text'].tolist()\n",
        "embedding_model = Word2Vec(sentences=all_sentences, vector_size=100, window=5, min_count=1, workers=4)\n",
        "\n",
        "train['embeddings'] = train['processed_text'].apply(lambda x: [embedding_model.wv[word] for word in x if word in embedding_model.wv])\n",
        "test['embeddings'] = test['processed_text'].apply(lambda x: [embedding_model.wv[word] for word in x if word in embedding_model.wv])\n",
        "\n",
        "# Example output\n",
        "print(train[['text', 'processed_text', 'embeddings']].head())\n"
      ]
    },
    {
      "cell_type": "markdown",
      "metadata": {
        "id": "BLhVCord-IrS"
      },
      "source": [
        "Urban dictionary API for better sentimental analysis to keep up with trendy words"
      ]
    },
    {
      "cell_type": "code",
      "execution_count": 13,
      "metadata": {
        "id": "s1nJ4GNY-VKq",
        "colab": {
          "base_uri": "https://localhost:8080/"
        },
        "outputId": "b445d2a6-161b-43ab-9f83-f567dc5f66c9"
      },
      "outputs": [
        {
          "output_type": "stream",
          "name": "stdout",
          "text": [
            "time: 354 ms (started: 2024-12-14 04:31:58 +00:00)\n"
          ]
        }
      ],
      "source": [
        "import requests\n",
        "from sklearn.feature_extraction.text import TfidfVectorizer\n",
        "from sklearn.ensemble import RandomForestClassifier\n",
        "import pandas as pd\n",
        "from concurrent.futures import ThreadPoolExecutor\n",
        "from textblob import TextBlob\n",
        "\n",
        "#import the definitions from urban dictionary API\n",
        "def get_urban_definition(word):\n",
        "  try:\n",
        "    url = f\"https://api.urbandictionary.com/v0/define?term={word}\"\n",
        "    response = requests.get(url)\n",
        "\n",
        "    if response.status_code == 200 and response.text.strip():\n",
        "            result = response.json()  # Try parsing JSON response\n",
        "            if result['list']:  # If there are definitions in the result\n",
        "                return result['list'][0]['definition']  # Get the first definition\n",
        "            else:\n",
        "                return None  # Return None if no definition found\n",
        "    else:\n",
        "            print(f\"Error: No data returned for word: {word}\")\n",
        "            return None\n",
        "  except requests.exceptions.RequestException as e:\n",
        "        # Catch any exceptions that occur during the request\n",
        "        print(f\"Request failed for word: {word}. Error: {e}\")\n",
        "        return None\n",
        "  except ValueError as e:\n",
        "        # Catch JSON decoding errors\n",
        "        print(f\"Error decoding JSON for word: {word}. Error: {e}\")\n",
        "        return None\n",
        "\n"
      ]
    },
    {
      "cell_type": "code",
      "execution_count": 14,
      "metadata": {
        "colab": {
          "base_uri": "https://localhost:8080/",
          "height": 636
        },
        "id": "_DeoKvL5-IH7",
        "outputId": "0303e1cc-91cb-40e8-c5c0-3e6ed410c38a"
      },
      "outputs": [
        {
          "output_type": "stream",
          "name": "stdout",
          "text": [
            "flagged_words: ['imbicle']\n",
            "Error: No data returned for word: d\n",
            "Error: No data returned for word: h\n",
            "Error: No data returned for word: e\n",
            "Error: No data returned for word: i\n",
            "Error: No data returned for word: l\n",
            "Error: No data returned for word: s\n",
            "Error: No data returned for word: n\n",
            "Error: No data returned for word: d\n",
            "Request failed for word: f. Error: HTTPSConnectionPool(host='api.urbandictionary.com', port=443): Max retries exceeded with url: /v0/define?term=f (Caused by SSLError(SSLError(1, '[SSL: TLSV1_ALERT_DECODE_ERROR] tlsv1 alert decode error (_ssl.c:1007)')))\n",
            "Error: No data returned for word: s\n",
            "Error: No data returned for word: l\n"
          ]
        },
        {
          "output_type": "error",
          "ename": "KeyboardInterrupt",
          "evalue": "",
          "traceback": [
            "\u001b[0;31m---------------------------------------------------------------------------\u001b[0m",
            "\u001b[0;31mKeyboardInterrupt\u001b[0m                         Traceback (most recent call last)",
            "\u001b[0;32m<ipython-input-14-209d41b96607>\u001b[0m in \u001b[0;36m<cell line: 40>\u001b[0;34m()\u001b[0m\n\u001b[1;32m     38\u001b[0m \u001b[0;34m\u001b[0m\u001b[0m\n\u001b[1;32m     39\u001b[0m \u001b[0;31m#preprocessing training and test datasets\u001b[0m\u001b[0;34m\u001b[0m\u001b[0;34m\u001b[0m\u001b[0m\n\u001b[0;32m---> 40\u001b[0;31m \u001b[0mtrain\u001b[0m\u001b[0;34m[\u001b[0m\u001b[0;34m'flagged_words'\u001b[0m\u001b[0;34m]\u001b[0m \u001b[0;34m=\u001b[0m \u001b[0mtrain\u001b[0m\u001b[0;34m[\u001b[0m\u001b[0;34m'text'\u001b[0m\u001b[0;34m]\u001b[0m\u001b[0;34m.\u001b[0m\u001b[0mapply\u001b[0m\u001b[0;34m(\u001b[0m\u001b[0mpreprocess_and_flag\u001b[0m\u001b[0;34m)\u001b[0m\u001b[0;34m\u001b[0m\u001b[0;34m\u001b[0m\u001b[0m\n\u001b[0m\u001b[1;32m     41\u001b[0m \u001b[0mtest\u001b[0m\u001b[0;34m[\u001b[0m\u001b[0;34m'flagged_words'\u001b[0m\u001b[0;34m]\u001b[0m \u001b[0;34m=\u001b[0m \u001b[0mtest\u001b[0m\u001b[0;34m[\u001b[0m\u001b[0;34m'text'\u001b[0m\u001b[0;34m]\u001b[0m\u001b[0;34m.\u001b[0m\u001b[0mapply\u001b[0m\u001b[0;34m(\u001b[0m\u001b[0mpreprocess_and_flag\u001b[0m\u001b[0;34m)\u001b[0m\u001b[0;34m\u001b[0m\u001b[0;34m\u001b[0m\u001b[0m\n\u001b[1;32m     42\u001b[0m \u001b[0;34m\u001b[0m\u001b[0m\n",
            "\u001b[0;32m/usr/local/lib/python3.10/dist-packages/pandas/core/series.py\u001b[0m in \u001b[0;36mapply\u001b[0;34m(self, func, convert_dtype, args, by_row, **kwargs)\u001b[0m\n\u001b[1;32m   4922\u001b[0m             \u001b[0margs\u001b[0m\u001b[0;34m=\u001b[0m\u001b[0margs\u001b[0m\u001b[0;34m,\u001b[0m\u001b[0;34m\u001b[0m\u001b[0;34m\u001b[0m\u001b[0m\n\u001b[1;32m   4923\u001b[0m             \u001b[0mkwargs\u001b[0m\u001b[0;34m=\u001b[0m\u001b[0mkwargs\u001b[0m\u001b[0;34m,\u001b[0m\u001b[0;34m\u001b[0m\u001b[0;34m\u001b[0m\u001b[0m\n\u001b[0;32m-> 4924\u001b[0;31m         ).apply()\n\u001b[0m\u001b[1;32m   4925\u001b[0m \u001b[0;34m\u001b[0m\u001b[0m\n\u001b[1;32m   4926\u001b[0m     def _reindex_indexer(\n",
            "\u001b[0;32m/usr/local/lib/python3.10/dist-packages/pandas/core/apply.py\u001b[0m in \u001b[0;36mapply\u001b[0;34m(self)\u001b[0m\n\u001b[1;32m   1425\u001b[0m \u001b[0;34m\u001b[0m\u001b[0m\n\u001b[1;32m   1426\u001b[0m         \u001b[0;31m# self.func is Callable\u001b[0m\u001b[0;34m\u001b[0m\u001b[0;34m\u001b[0m\u001b[0m\n\u001b[0;32m-> 1427\u001b[0;31m         \u001b[0;32mreturn\u001b[0m \u001b[0mself\u001b[0m\u001b[0;34m.\u001b[0m\u001b[0mapply_standard\u001b[0m\u001b[0;34m(\u001b[0m\u001b[0;34m)\u001b[0m\u001b[0;34m\u001b[0m\u001b[0;34m\u001b[0m\u001b[0m\n\u001b[0m\u001b[1;32m   1428\u001b[0m \u001b[0;34m\u001b[0m\u001b[0m\n\u001b[1;32m   1429\u001b[0m     \u001b[0;32mdef\u001b[0m \u001b[0magg\u001b[0m\u001b[0;34m(\u001b[0m\u001b[0mself\u001b[0m\u001b[0;34m)\u001b[0m\u001b[0;34m:\u001b[0m\u001b[0;34m\u001b[0m\u001b[0;34m\u001b[0m\u001b[0m\n",
            "\u001b[0;32m/usr/local/lib/python3.10/dist-packages/pandas/core/apply.py\u001b[0m in \u001b[0;36mapply_standard\u001b[0;34m(self)\u001b[0m\n\u001b[1;32m   1505\u001b[0m         \u001b[0;31m#  Categorical (GH51645).\u001b[0m\u001b[0;34m\u001b[0m\u001b[0;34m\u001b[0m\u001b[0m\n\u001b[1;32m   1506\u001b[0m         \u001b[0maction\u001b[0m \u001b[0;34m=\u001b[0m \u001b[0;34m\"ignore\"\u001b[0m \u001b[0;32mif\u001b[0m \u001b[0misinstance\u001b[0m\u001b[0;34m(\u001b[0m\u001b[0mobj\u001b[0m\u001b[0;34m.\u001b[0m\u001b[0mdtype\u001b[0m\u001b[0;34m,\u001b[0m \u001b[0mCategoricalDtype\u001b[0m\u001b[0;34m)\u001b[0m \u001b[0;32melse\u001b[0m \u001b[0;32mNone\u001b[0m\u001b[0;34m\u001b[0m\u001b[0;34m\u001b[0m\u001b[0m\n\u001b[0;32m-> 1507\u001b[0;31m         mapped = obj._map_values(\n\u001b[0m\u001b[1;32m   1508\u001b[0m             \u001b[0mmapper\u001b[0m\u001b[0;34m=\u001b[0m\u001b[0mcurried\u001b[0m\u001b[0;34m,\u001b[0m \u001b[0mna_action\u001b[0m\u001b[0;34m=\u001b[0m\u001b[0maction\u001b[0m\u001b[0;34m,\u001b[0m \u001b[0mconvert\u001b[0m\u001b[0;34m=\u001b[0m\u001b[0mself\u001b[0m\u001b[0;34m.\u001b[0m\u001b[0mconvert_dtype\u001b[0m\u001b[0;34m\u001b[0m\u001b[0;34m\u001b[0m\u001b[0m\n\u001b[1;32m   1509\u001b[0m         )\n",
            "\u001b[0;32m/usr/local/lib/python3.10/dist-packages/pandas/core/base.py\u001b[0m in \u001b[0;36m_map_values\u001b[0;34m(self, mapper, na_action, convert)\u001b[0m\n\u001b[1;32m    919\u001b[0m             \u001b[0;32mreturn\u001b[0m \u001b[0marr\u001b[0m\u001b[0;34m.\u001b[0m\u001b[0mmap\u001b[0m\u001b[0;34m(\u001b[0m\u001b[0mmapper\u001b[0m\u001b[0;34m,\u001b[0m \u001b[0mna_action\u001b[0m\u001b[0;34m=\u001b[0m\u001b[0mna_action\u001b[0m\u001b[0;34m)\u001b[0m\u001b[0;34m\u001b[0m\u001b[0;34m\u001b[0m\u001b[0m\n\u001b[1;32m    920\u001b[0m \u001b[0;34m\u001b[0m\u001b[0m\n\u001b[0;32m--> 921\u001b[0;31m         \u001b[0;32mreturn\u001b[0m \u001b[0malgorithms\u001b[0m\u001b[0;34m.\u001b[0m\u001b[0mmap_array\u001b[0m\u001b[0;34m(\u001b[0m\u001b[0marr\u001b[0m\u001b[0;34m,\u001b[0m \u001b[0mmapper\u001b[0m\u001b[0;34m,\u001b[0m \u001b[0mna_action\u001b[0m\u001b[0;34m=\u001b[0m\u001b[0mna_action\u001b[0m\u001b[0;34m,\u001b[0m \u001b[0mconvert\u001b[0m\u001b[0;34m=\u001b[0m\u001b[0mconvert\u001b[0m\u001b[0;34m)\u001b[0m\u001b[0;34m\u001b[0m\u001b[0;34m\u001b[0m\u001b[0m\n\u001b[0m\u001b[1;32m    922\u001b[0m \u001b[0;34m\u001b[0m\u001b[0m\n\u001b[1;32m    923\u001b[0m     \u001b[0;34m@\u001b[0m\u001b[0mfinal\u001b[0m\u001b[0;34m\u001b[0m\u001b[0;34m\u001b[0m\u001b[0m\n",
            "\u001b[0;32m/usr/local/lib/python3.10/dist-packages/pandas/core/algorithms.py\u001b[0m in \u001b[0;36mmap_array\u001b[0;34m(arr, mapper, na_action, convert)\u001b[0m\n\u001b[1;32m   1741\u001b[0m     \u001b[0mvalues\u001b[0m \u001b[0;34m=\u001b[0m \u001b[0marr\u001b[0m\u001b[0;34m.\u001b[0m\u001b[0mastype\u001b[0m\u001b[0;34m(\u001b[0m\u001b[0mobject\u001b[0m\u001b[0;34m,\u001b[0m \u001b[0mcopy\u001b[0m\u001b[0;34m=\u001b[0m\u001b[0;32mFalse\u001b[0m\u001b[0;34m)\u001b[0m\u001b[0;34m\u001b[0m\u001b[0;34m\u001b[0m\u001b[0m\n\u001b[1;32m   1742\u001b[0m     \u001b[0;32mif\u001b[0m \u001b[0mna_action\u001b[0m \u001b[0;32mis\u001b[0m \u001b[0;32mNone\u001b[0m\u001b[0;34m:\u001b[0m\u001b[0;34m\u001b[0m\u001b[0;34m\u001b[0m\u001b[0m\n\u001b[0;32m-> 1743\u001b[0;31m         \u001b[0;32mreturn\u001b[0m \u001b[0mlib\u001b[0m\u001b[0;34m.\u001b[0m\u001b[0mmap_infer\u001b[0m\u001b[0;34m(\u001b[0m\u001b[0mvalues\u001b[0m\u001b[0;34m,\u001b[0m \u001b[0mmapper\u001b[0m\u001b[0;34m,\u001b[0m \u001b[0mconvert\u001b[0m\u001b[0;34m=\u001b[0m\u001b[0mconvert\u001b[0m\u001b[0;34m)\u001b[0m\u001b[0;34m\u001b[0m\u001b[0;34m\u001b[0m\u001b[0m\n\u001b[0m\u001b[1;32m   1744\u001b[0m     \u001b[0;32melse\u001b[0m\u001b[0;34m:\u001b[0m\u001b[0;34m\u001b[0m\u001b[0;34m\u001b[0m\u001b[0m\n\u001b[1;32m   1745\u001b[0m         return lib.map_infer_mask(\n",
            "\u001b[0;32mlib.pyx\u001b[0m in \u001b[0;36mpandas._libs.lib.map_infer\u001b[0;34m()\u001b[0m\n",
            "\u001b[0;32m<ipython-input-14-209d41b96607>\u001b[0m in \u001b[0;36mpreprocess_and_flag\u001b[0;34m(word_list)\u001b[0m\n\u001b[1;32m     15\u001b[0m   \u001b[0;31m#applying concurrency to minimize runtime, (10) to avoid overhead\u001b[0m\u001b[0;34m\u001b[0m\u001b[0;34m\u001b[0m\u001b[0m\n\u001b[1;32m     16\u001b[0m     \u001b[0;32mwith\u001b[0m \u001b[0mThreadPoolExecutor\u001b[0m\u001b[0;34m(\u001b[0m\u001b[0mmax_workers\u001b[0m\u001b[0;34m=\u001b[0m\u001b[0;36m10\u001b[0m\u001b[0;34m)\u001b[0m \u001b[0;32mas\u001b[0m \u001b[0mexecutor\u001b[0m\u001b[0;34m:\u001b[0m\u001b[0;34m\u001b[0m\u001b[0;34m\u001b[0m\u001b[0m\n\u001b[0;32m---> 17\u001b[0;31m       \u001b[0mdefinitions\u001b[0m \u001b[0;34m=\u001b[0m \u001b[0mlist\u001b[0m\u001b[0;34m(\u001b[0m\u001b[0mexecutor\u001b[0m\u001b[0;34m.\u001b[0m\u001b[0mmap\u001b[0m\u001b[0;34m(\u001b[0m\u001b[0mget_urban_definition\u001b[0m\u001b[0;34m,\u001b[0m \u001b[0mcleaned_words\u001b[0m\u001b[0;34m)\u001b[0m\u001b[0;34m)\u001b[0m\u001b[0;34m\u001b[0m\u001b[0;34m\u001b[0m\u001b[0m\n\u001b[0m\u001b[1;32m     18\u001b[0m \u001b[0;34m\u001b[0m\u001b[0m\n\u001b[1;32m     19\u001b[0m     \u001b[0;32mfor\u001b[0m \u001b[0mword\u001b[0m\u001b[0;34m,\u001b[0m \u001b[0mdefinition\u001b[0m \u001b[0;32min\u001b[0m \u001b[0mzip\u001b[0m\u001b[0;34m(\u001b[0m\u001b[0mcleaned_words\u001b[0m\u001b[0;34m,\u001b[0m \u001b[0mdefinitions\u001b[0m\u001b[0;34m)\u001b[0m\u001b[0;34m:\u001b[0m\u001b[0;34m\u001b[0m\u001b[0;34m\u001b[0m\u001b[0m\n",
            "\u001b[0;32m/usr/lib/python3.10/concurrent/futures/_base.py\u001b[0m in \u001b[0;36mresult_iterator\u001b[0;34m()\u001b[0m\n\u001b[1;32m    619\u001b[0m                     \u001b[0;31m# Careful not to keep a reference to the popped future\u001b[0m\u001b[0;34m\u001b[0m\u001b[0;34m\u001b[0m\u001b[0m\n\u001b[1;32m    620\u001b[0m                     \u001b[0;32mif\u001b[0m \u001b[0mtimeout\u001b[0m \u001b[0;32mis\u001b[0m \u001b[0;32mNone\u001b[0m\u001b[0;34m:\u001b[0m\u001b[0;34m\u001b[0m\u001b[0;34m\u001b[0m\u001b[0m\n\u001b[0;32m--> 621\u001b[0;31m                         \u001b[0;32myield\u001b[0m \u001b[0m_result_or_cancel\u001b[0m\u001b[0;34m(\u001b[0m\u001b[0mfs\u001b[0m\u001b[0;34m.\u001b[0m\u001b[0mpop\u001b[0m\u001b[0;34m(\u001b[0m\u001b[0;34m)\u001b[0m\u001b[0;34m)\u001b[0m\u001b[0;34m\u001b[0m\u001b[0;34m\u001b[0m\u001b[0m\n\u001b[0m\u001b[1;32m    622\u001b[0m                     \u001b[0;32melse\u001b[0m\u001b[0;34m:\u001b[0m\u001b[0;34m\u001b[0m\u001b[0;34m\u001b[0m\u001b[0m\n\u001b[1;32m    623\u001b[0m                         \u001b[0;32myield\u001b[0m \u001b[0m_result_or_cancel\u001b[0m\u001b[0;34m(\u001b[0m\u001b[0mfs\u001b[0m\u001b[0;34m.\u001b[0m\u001b[0mpop\u001b[0m\u001b[0;34m(\u001b[0m\u001b[0;34m)\u001b[0m\u001b[0;34m,\u001b[0m \u001b[0mend_time\u001b[0m \u001b[0;34m-\u001b[0m \u001b[0mtime\u001b[0m\u001b[0;34m.\u001b[0m\u001b[0mmonotonic\u001b[0m\u001b[0;34m(\u001b[0m\u001b[0;34m)\u001b[0m\u001b[0;34m)\u001b[0m\u001b[0;34m\u001b[0m\u001b[0;34m\u001b[0m\u001b[0m\n",
            "\u001b[0;32m/usr/lib/python3.10/concurrent/futures/_base.py\u001b[0m in \u001b[0;36m_result_or_cancel\u001b[0;34m(***failed resolving arguments***)\u001b[0m\n\u001b[1;32m    317\u001b[0m     \u001b[0;32mtry\u001b[0m\u001b[0;34m:\u001b[0m\u001b[0;34m\u001b[0m\u001b[0;34m\u001b[0m\u001b[0m\n\u001b[1;32m    318\u001b[0m         \u001b[0;32mtry\u001b[0m\u001b[0;34m:\u001b[0m\u001b[0;34m\u001b[0m\u001b[0;34m\u001b[0m\u001b[0m\n\u001b[0;32m--> 319\u001b[0;31m             \u001b[0;32mreturn\u001b[0m \u001b[0mfut\u001b[0m\u001b[0;34m.\u001b[0m\u001b[0mresult\u001b[0m\u001b[0;34m(\u001b[0m\u001b[0mtimeout\u001b[0m\u001b[0;34m)\u001b[0m\u001b[0;34m\u001b[0m\u001b[0;34m\u001b[0m\u001b[0m\n\u001b[0m\u001b[1;32m    320\u001b[0m         \u001b[0;32mfinally\u001b[0m\u001b[0;34m:\u001b[0m\u001b[0;34m\u001b[0m\u001b[0;34m\u001b[0m\u001b[0m\n\u001b[1;32m    321\u001b[0m             \u001b[0mfut\u001b[0m\u001b[0;34m.\u001b[0m\u001b[0mcancel\u001b[0m\u001b[0;34m(\u001b[0m\u001b[0;34m)\u001b[0m\u001b[0;34m\u001b[0m\u001b[0;34m\u001b[0m\u001b[0m\n",
            "\u001b[0;32m/usr/lib/python3.10/concurrent/futures/_base.py\u001b[0m in \u001b[0;36mresult\u001b[0;34m(self, timeout)\u001b[0m\n\u001b[1;32m    451\u001b[0m                     \u001b[0;32mreturn\u001b[0m \u001b[0mself\u001b[0m\u001b[0;34m.\u001b[0m\u001b[0m__get_result\u001b[0m\u001b[0;34m(\u001b[0m\u001b[0;34m)\u001b[0m\u001b[0;34m\u001b[0m\u001b[0;34m\u001b[0m\u001b[0m\n\u001b[1;32m    452\u001b[0m \u001b[0;34m\u001b[0m\u001b[0m\n\u001b[0;32m--> 453\u001b[0;31m                 \u001b[0mself\u001b[0m\u001b[0;34m.\u001b[0m\u001b[0m_condition\u001b[0m\u001b[0;34m.\u001b[0m\u001b[0mwait\u001b[0m\u001b[0;34m(\u001b[0m\u001b[0mtimeout\u001b[0m\u001b[0;34m)\u001b[0m\u001b[0;34m\u001b[0m\u001b[0;34m\u001b[0m\u001b[0m\n\u001b[0m\u001b[1;32m    454\u001b[0m \u001b[0;34m\u001b[0m\u001b[0m\n\u001b[1;32m    455\u001b[0m                 \u001b[0;32mif\u001b[0m \u001b[0mself\u001b[0m\u001b[0;34m.\u001b[0m\u001b[0m_state\u001b[0m \u001b[0;32min\u001b[0m \u001b[0;34m[\u001b[0m\u001b[0mCANCELLED\u001b[0m\u001b[0;34m,\u001b[0m \u001b[0mCANCELLED_AND_NOTIFIED\u001b[0m\u001b[0;34m]\u001b[0m\u001b[0;34m:\u001b[0m\u001b[0;34m\u001b[0m\u001b[0;34m\u001b[0m\u001b[0m\n",
            "\u001b[0;32m/usr/lib/python3.10/threading.py\u001b[0m in \u001b[0;36mwait\u001b[0;34m(self, timeout)\u001b[0m\n\u001b[1;32m    318\u001b[0m         \u001b[0;32mtry\u001b[0m\u001b[0;34m:\u001b[0m    \u001b[0;31m# restore state no matter what (e.g., KeyboardInterrupt)\u001b[0m\u001b[0;34m\u001b[0m\u001b[0;34m\u001b[0m\u001b[0m\n\u001b[1;32m    319\u001b[0m             \u001b[0;32mif\u001b[0m \u001b[0mtimeout\u001b[0m \u001b[0;32mis\u001b[0m \u001b[0;32mNone\u001b[0m\u001b[0;34m:\u001b[0m\u001b[0;34m\u001b[0m\u001b[0;34m\u001b[0m\u001b[0m\n\u001b[0;32m--> 320\u001b[0;31m                 \u001b[0mwaiter\u001b[0m\u001b[0;34m.\u001b[0m\u001b[0macquire\u001b[0m\u001b[0;34m(\u001b[0m\u001b[0;34m)\u001b[0m\u001b[0;34m\u001b[0m\u001b[0;34m\u001b[0m\u001b[0m\n\u001b[0m\u001b[1;32m    321\u001b[0m                 \u001b[0mgotit\u001b[0m \u001b[0;34m=\u001b[0m \u001b[0;32mTrue\u001b[0m\u001b[0;34m\u001b[0m\u001b[0;34m\u001b[0m\u001b[0m\n\u001b[1;32m    322\u001b[0m             \u001b[0;32melse\u001b[0m\u001b[0;34m:\u001b[0m\u001b[0;34m\u001b[0m\u001b[0;34m\u001b[0m\u001b[0m\n",
            "\u001b[0;31mKeyboardInterrupt\u001b[0m: "
          ]
        },
        {
          "output_type": "stream",
          "name": "stdout",
          "text": [
            "time: 7h 14min 14s (started: 2024-12-14 04:31:58 +00:00)\n"
          ]
        }
      ],
      "source": [
        "def has_negative_sentiment(definition):\n",
        "    blob = TextBlob(definition)\n",
        "    return blob.sentiment.polarity < -0.5\n",
        "\n",
        "# Preprocessing function that checks Urban Dictionary for offensive terms\n",
        "def preprocess_and_flag(word_list):\n",
        "    flagged_words = []\n",
        "    # Preprocess words to clean punctuation\n",
        "    cleaned_words = [re.sub(r\"[^\\w\\s]\", \"\", word)for word in word_list]\n",
        "\n",
        "    # List of common words that should be skipped\n",
        "    #During the testing of this program it was found that sometimes with ceritan examples it would count common words as flagged\n",
        "    common_words = [\"so\", \"the\", \"and\", \"a\", \"of\", \"to\", \"it\", \"is\", \"youre\",\"an\"]\n",
        "\n",
        "  #applying concurrency to minimize runtime, (10) to avoid overhead\n",
        "    with ThreadPoolExecutor(max_workers=10) as executor:\n",
        "      definitions = list(executor.map(get_urban_definition, cleaned_words))\n",
        "\n",
        "    for word, definition in zip(cleaned_words, definitions):\n",
        "        if word.lower() in common_words:\n",
        "            continue\n",
        "\n",
        "        if definition and (\n",
        "            'offensive' in definition.lower()\n",
        "            or 'slang' in definition.lower()\n",
        "            or has_negative_sentiment(definition)\n",
        "        ):\n",
        "            flagged_words.append(word)\n",
        "\n",
        "\n",
        "    return flagged_words\n",
        "\n",
        "#example output:\n",
        "example =('such an annoying imbicle')\n",
        "flagged_words_ex = preprocess_and_flag(example.split())\n",
        "\n",
        "print('flagged_words:', flagged_words_ex)\n",
        "\n",
        "#preprocessing training and test datasets\n",
        "train['flagged_words'] = train['text'].apply(preprocess_and_flag)\n",
        "test['flagged_words'] = test['text'].apply(preprocess_and_flag)\n",
        "\n",
        "train = pd.read_csv('ghc_train.tsv', sep='\\t')\n",
        "test = pd.read_csv('ghc_test.tsv', sep='\\t')\n",
        "\n"
      ]
    },
    {
      "cell_type": "markdown",
      "source": [
        "An example of flagged words\n",
        "using\n",
        "`print(f\"Flagged Word: {word} - Definition: {definition}\")`\n",
        "![flagged.png](data:image/png;base64,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)\n",
        "(Program was stopped and rerun without this line to avoid longer run time and preserve computational power)\n",
        "\n",
        "`if response.status_code == 200 and response.text.strip():`\n",
        "was used to make sure the API's response is valid and contains actual content before trying to process it\n",
        "\n",
        "This API includes 1.9GB of Urban Dictionary definitions, in theory it would be great for training data but is costly regarding computational power.\n",
        "++Due to limited RAM this code was unable to run, in theory these definitions would be inserted to the training data to better understand trendy words and slang.\n"
      ],
      "metadata": {
        "id": "NgQNJ86PdSux"
      }
    },
    {
      "cell_type": "markdown",
      "metadata": {
        "id": "fjnZ7Xwo1MFq"
      },
      "source": [
        "# Vectorization\n"
      ]
    },
    {
      "cell_type": "code",
      "execution_count": 15,
      "metadata": {
        "id": "f8tGcU031ClX",
        "colab": {
          "base_uri": "https://localhost:8080/"
        },
        "outputId": "463534a5-501c-4885-87f5-26ca61586830"
      },
      "outputs": [
        {
          "output_type": "stream",
          "name": "stdout",
          "text": [
            "time: 1.52 s (started: 2024-12-14 11:46:18 +00:00)\n"
          ]
        }
      ],
      "source": [
        "# Vectorize the text data\n",
        "vectorizer = TfidfVectorizer(max_features=1000)\n",
        "vectorizer = TfidfVectorizer()\n",
        "x_train_vec = vectorizer.fit_transform(train['text'])\n",
        "\n",
        "x_train_vec = vectorizer.fit_transform(train['text'])\n",
        "x_test_vec = vectorizer.transform(test['text'])\n"
      ]
    },
    {
      "cell_type": "markdown",
      "metadata": {
        "id": "7WbU_t02jQAl"
      },
      "source": [
        "# **Training the data**"
      ]
    },
    {
      "cell_type": "markdown",
      "metadata": {
        "id": "wVyDxd64OAr5"
      },
      "source": [
        "using **distilbert**, a lighter and faster version of bert to perform sentiment analysis.\n",
        "\n",
        "    return result[0]['label']\n",
        "\n",
        "was used and not result[-1] because -1 doesnt guarntee all negative sentiments but only fully negative ones\n",
        "\n",
        "\n",
        "---\n",
        "\n",
        "\n",
        "for example:\n",
        "\"I  dislike [\"certain eithnic group\"].\" would have a score of 0.98\n",
        "[{'label': 'NEGATIVE', 'score': 0.98}]\n",
        "which wouldn't be counted as a fully negative sentiment an wouldn't be included."
      ]
    },
    {
      "cell_type": "code",
      "execution_count": 18,
      "metadata": {
        "id": "F9U1u6Ozt-a7",
        "colab": {
          "base_uri": "https://localhost:8080/"
        },
        "outputId": "0d5bfd0d-fff0-442b-ab85-432d4795f5d1"
      },
      "outputs": [
        {
          "output_type": "stream",
          "name": "stdout",
          "text": [
            "time: 2.86 s (started: 2024-12-14 11:47:52 +00:00)\n"
          ]
        }
      ],
      "source": [
        "#selecting negative sentiments to train on\n",
        "from textblob import TextBlob\n",
        "from sklearn.multioutput import MultiOutputClassifier\n",
        "from sklearn.linear_model import SGDClassifier\n",
        "from sklearn.feature_extraction.text import TfidfVectorizer\n",
        "\n",
        "#vectorization\n",
        "vectorizer = TfidfVectorizer(max_features=1000)\n",
        "vectorizer = TfidfVectorizer()\n",
        "\n",
        "x_train_vec = vectorizer.fit_transform(train['text'])\n",
        "x_test_vec = vectorizer.transform(test['text'])\n",
        "\n",
        "\n",
        "#target\n",
        "y_train = train[['hd', 'vo', 'cv']]\n",
        "\n",
        "# Model training\n",
        "sgd_clf = MultiOutputClassifier(SGDClassifier())\n",
        "sgd_clf.fit(x_train_vec, y_train)\n",
        "\n",
        "# Predictions and evaluations\n",
        "y_pred = sgd_clf.predict(x_test_vec)"
      ]
    },
    {
      "cell_type": "markdown",
      "metadata": {
        "id": "nNNt6B4a1pF4"
      },
      "source": [
        "# Evaluting the data"
      ]
    },
    {
      "cell_type": "markdown",
      "metadata": {
        "id": "cpUsi5RkQdM-"
      },
      "source": [
        "for better evaluations, each category is evaluated separately"
      ]
    },
    {
      "cell_type": "code",
      "execution_count": 20,
      "metadata": {
        "id": "bCOcI8LaunPJ",
        "colab": {
          "base_uri": "https://localhost:8080/"
        },
        "outputId": "682c83dc-1e7b-4593-d188-b1b22e96c4cd"
      },
      "outputs": [
        {
          "output_type": "stream",
          "name": "stdout",
          "text": [
            "Accuracy for hd: 91.23%\n",
            "Accuracy for vo: 93.85%\n",
            "Accuracy for cv: 99.56%\n",
            "time: 25.3 ms (started: 2024-12-14 11:48:12 +00:00)\n"
          ]
        }
      ],
      "source": [
        "from sklearn.metrics import accuracy_score\n",
        "\n",
        "def evaluate(model):\n",
        "    y_pred = model.predict(x_test_vec)\n",
        "    for i, col in enumerate(['hd', 'vo', 'cv']):\n",
        "        accuracy = accuracy_score(test[col], y_pred[:, i])\n",
        "        print(f'Accuracy for {col}: {100 * accuracy:.2f}%')\n",
        "\n",
        "evaluate(sgd_clf)"
      ]
    },
    {
      "cell_type": "markdown",
      "metadata": {
        "id": "ZqkCk84fQtF3"
      },
      "source": [
        "an example for evaluating them all together and the accuracy difference:"
      ]
    },
    {
      "cell_type": "code",
      "execution_count": 32,
      "metadata": {
        "id": "SDtKP54RvIf2",
        "colab": {
          "base_uri": "https://localhost:8080/"
        },
        "outputId": "1aeeb9b4-3cc8-4fa0-d364-8f7be3b4fad5"
      },
      "outputs": [
        {
          "output_type": "stream",
          "name": "stdout",
          "text": [
            "Overall Accuracy: 87.4%\n",
            "time: 1h 5min 50s (started: 2024-12-14 18:33:37 +00:00)\n"
          ]
        }
      ],
      "source": [
        "from sklearn.ensemble import RandomForestClassifier\n",
        "from sklearn.model_selection import GridSearchCV\n",
        "from sklearn.feature_extraction.text import TfidfVectorizer\n",
        "import pandas as pd\n",
        "from sklearn.metrics import accuracy_score\n",
        "\n",
        "rf = RandomForestClassifier()\n",
        "param_grid = {\n",
        "    'n_estimators': [100, 200],\n",
        "    'max_depth': [None, 10, 20],\n",
        "    'min_samples_split': [2, 5],\n",
        "}\n",
        "\n",
        "\n",
        "grid_search = GridSearchCV(rf, param_grid, cv=5)\n",
        "grid_search.fit(x_train_vec, train[['cv', 'hd', 'vo']])\n",
        "\n",
        "\n",
        "best_rf = grid_search.best_estimator_\n",
        "y_test = test[['cv', 'hd', 'vo']]\n",
        "\n",
        "y_pred = best_rf.predict(x_test_vec)\n",
        "\n",
        "overall_accuracy = accuracy_score(y_test, y_pred)\n",
        "\n",
        "print(f\"Overall Accuracy: {100 * overall_accuracy:.1f}%\")\n",
        "\n"
      ]
    },
    {
      "cell_type": "markdown",
      "metadata": {
        "id": "YFjPmMZLme2z"
      },
      "source": [
        "Testing on another data set"
      ]
    },
    {
      "cell_type": "code",
      "source": [
        "import pickle\n",
        "\n",
        "# Save the vectorizer\n",
        "with open('vectorizer.pkl', 'wb') as f:\n",
        "    pickle.dump(vectorizer, f)\n",
        "\n",
        "# Save the trained classifier\n",
        "with open('sgd_clf.pkl', 'wb') as f:\n",
        "    pickle.dump(sgd_clf, f)"
      ],
      "metadata": {
        "colab": {
          "base_uri": "https://localhost:8080/"
        },
        "id": "QRR-eAAWtJ23",
        "outputId": "78a7c980-8d05-46a9-d3c0-7f824a606886"
      },
      "execution_count": 34,
      "outputs": [
        {
          "output_type": "stream",
          "name": "stdout",
          "text": [
            "time: 35 ms (started: 2024-12-14 19:45:50 +00:00)\n"
          ]
        }
      ]
    },
    {
      "cell_type": "code",
      "execution_count": 24,
      "metadata": {
        "id": "JQIA7sJimlqf",
        "colab": {
          "base_uri": "https://localhost:8080/",
          "height": 495
        },
        "outputId": "830b2fd9-55bd-4ff7-f28f-996621ed435b"
      },
      "outputs": [
        {
          "output_type": "stream",
          "name": "stdout",
          "text": [
            "                                               text\n",
            "0                \"I hate people from that country.\"\n",
            "1                \"This group should be eradicated.\"\n",
            "2      \"We don’t need people like them in society.\"\n",
            "3           \"Anyone who believes that is an idiot.\"\n",
            "4  \"You don't belong here because of your beliefs.\"\n"
          ]
        },
        {
          "output_type": "error",
          "ename": "NotFittedError",
          "evalue": "The TF-IDF vectorizer is not fitted",
          "traceback": [
            "\u001b[0;31m---------------------------------------------------------------------------\u001b[0m",
            "\u001b[0;31mNotFittedError\u001b[0m                            Traceback (most recent call last)",
            "\u001b[0;32m<ipython-input-24-4f7c9e8a2e0e>\u001b[0m in \u001b[0;36m<cell line: 12>\u001b[0;34m()\u001b[0m\n\u001b[1;32m     10\u001b[0m \u001b[0mvectorizer\u001b[0m \u001b[0;34m=\u001b[0m \u001b[0mTfidfVectorizer\u001b[0m\u001b[0;34m(\u001b[0m\u001b[0;34m)\u001b[0m\u001b[0;34m\u001b[0m\u001b[0;34m\u001b[0m\u001b[0m\n\u001b[1;32m     11\u001b[0m \u001b[0mx_new\u001b[0m \u001b[0;34m=\u001b[0m \u001b[0mnew_data\u001b[0m\u001b[0;34m[\u001b[0m\u001b[0;34m'text'\u001b[0m\u001b[0;34m]\u001b[0m\u001b[0;34m\u001b[0m\u001b[0;34m\u001b[0m\u001b[0m\n\u001b[0;32m---> 12\u001b[0;31m \u001b[0mx_new_vec\u001b[0m \u001b[0;34m=\u001b[0m \u001b[0mvectorizer\u001b[0m\u001b[0;34m.\u001b[0m\u001b[0mtransform\u001b[0m\u001b[0;34m(\u001b[0m\u001b[0mx_new\u001b[0m\u001b[0;34m)\u001b[0m\u001b[0;34m\u001b[0m\u001b[0;34m\u001b[0m\u001b[0m\n\u001b[0m\u001b[1;32m     13\u001b[0m \u001b[0;34m\u001b[0m\u001b[0m\n\u001b[1;32m     14\u001b[0m \u001b[0;34m\u001b[0m\u001b[0m\n",
            "\u001b[0;32m/usr/local/lib/python3.10/dist-packages/sklearn/feature_extraction/text.py\u001b[0m in \u001b[0;36mtransform\u001b[0;34m(self, raw_documents)\u001b[0m\n\u001b[1;32m   2111\u001b[0m             \u001b[0mTf\u001b[0m\u001b[0;34m-\u001b[0m\u001b[0midf\u001b[0m\u001b[0;34m-\u001b[0m\u001b[0mweighted\u001b[0m \u001b[0mdocument\u001b[0m\u001b[0;34m-\u001b[0m\u001b[0mterm\u001b[0m \u001b[0mmatrix\u001b[0m\u001b[0;34m.\u001b[0m\u001b[0;34m\u001b[0m\u001b[0;34m\u001b[0m\u001b[0m\n\u001b[1;32m   2112\u001b[0m         \"\"\"\n\u001b[0;32m-> 2113\u001b[0;31m         \u001b[0mcheck_is_fitted\u001b[0m\u001b[0;34m(\u001b[0m\u001b[0mself\u001b[0m\u001b[0;34m,\u001b[0m \u001b[0mmsg\u001b[0m\u001b[0;34m=\u001b[0m\u001b[0;34m\"The TF-IDF vectorizer is not fitted\"\u001b[0m\u001b[0;34m)\u001b[0m\u001b[0;34m\u001b[0m\u001b[0;34m\u001b[0m\u001b[0m\n\u001b[0m\u001b[1;32m   2114\u001b[0m \u001b[0;34m\u001b[0m\u001b[0m\n\u001b[1;32m   2115\u001b[0m         \u001b[0mX\u001b[0m \u001b[0;34m=\u001b[0m \u001b[0msuper\u001b[0m\u001b[0;34m(\u001b[0m\u001b[0;34m)\u001b[0m\u001b[0;34m.\u001b[0m\u001b[0mtransform\u001b[0m\u001b[0;34m(\u001b[0m\u001b[0mraw_documents\u001b[0m\u001b[0;34m)\u001b[0m\u001b[0;34m\u001b[0m\u001b[0;34m\u001b[0m\u001b[0m\n",
            "\u001b[0;32m/usr/local/lib/python3.10/dist-packages/sklearn/utils/validation.py\u001b[0m in \u001b[0;36mcheck_is_fitted\u001b[0;34m(estimator, attributes, msg, all_or_any)\u001b[0m\n\u001b[1;32m   1659\u001b[0m \u001b[0;34m\u001b[0m\u001b[0m\n\u001b[1;32m   1660\u001b[0m     \u001b[0;32mif\u001b[0m \u001b[0;32mnot\u001b[0m \u001b[0m_is_fitted\u001b[0m\u001b[0;34m(\u001b[0m\u001b[0mestimator\u001b[0m\u001b[0;34m,\u001b[0m \u001b[0mattributes\u001b[0m\u001b[0;34m,\u001b[0m \u001b[0mall_or_any\u001b[0m\u001b[0;34m)\u001b[0m\u001b[0;34m:\u001b[0m\u001b[0;34m\u001b[0m\u001b[0;34m\u001b[0m\u001b[0m\n\u001b[0;32m-> 1661\u001b[0;31m         \u001b[0;32mraise\u001b[0m \u001b[0mNotFittedError\u001b[0m\u001b[0;34m(\u001b[0m\u001b[0mmsg\u001b[0m \u001b[0;34m%\u001b[0m \u001b[0;34m{\u001b[0m\u001b[0;34m\"name\"\u001b[0m\u001b[0;34m:\u001b[0m \u001b[0mtype\u001b[0m\u001b[0;34m(\u001b[0m\u001b[0mestimator\u001b[0m\u001b[0;34m)\u001b[0m\u001b[0;34m.\u001b[0m\u001b[0m__name__\u001b[0m\u001b[0;34m}\u001b[0m\u001b[0;34m)\u001b[0m\u001b[0;34m\u001b[0m\u001b[0;34m\u001b[0m\u001b[0m\n\u001b[0m\u001b[1;32m   1662\u001b[0m \u001b[0;34m\u001b[0m\u001b[0m\n\u001b[1;32m   1663\u001b[0m \u001b[0;34m\u001b[0m\u001b[0m\n",
            "\u001b[0;31mNotFittedError\u001b[0m: The TF-IDF vectorizer is not fitted"
          ]
        },
        {
          "output_type": "stream",
          "name": "stdout",
          "text": [
            "time: 527 ms (started: 2024-12-14 12:54:35 +00:00)\n"
          ]
        }
      ],
      "source": [
        "import pandas as pd\n",
        "from sklearn.feature_extraction.text import TfidfVectorizer\n",
        "from sklearn.metrics import classification_report\n",
        "\n",
        "new_data = pd.read_csv('new_data.txt', sep='\\t')\n",
        "\n",
        "with open('new_data.txt', 'r') as file:\n",
        "    lines = file.readlines()\n",
        "\n",
        "new_data = pd.DataFrame({'text': [line.strip() for line in lines]})\n",
        "print(new_data.head())\n",
        "\n",
        "x_new = new_data['text']\n",
        "vectorizer = TfidfVectorizer()\n",
        "\n",
        "x_train_vec = vectorizer.fit_transform(train['text'])\n",
        "\n",
        "x_new_vec = vectorizer.transform(x_new)\n",
        "\n",
        "\n",
        "y_new_pred = best_rf.predict(x_new_vec)\n",
        "y_new_pred_df = pd.DataFrame(y_new_pred, columns=['cv', 'hd', 'vo'])\n",
        "\n",
        "#predictions\n",
        "print(\"Predictions:\")\n",
        "print(y_new_pred_df)\n",
        "\n",
        "# Evaluate\n",
        "y_new_true = new_data[['cv', 'hd', 'vo']]\n",
        "\n",
        "new_data.to_csv('predicted_data.csv', index=False)\n",
        "\n",
        "\n",
        "from sklearn.metrics import classification_report\n",
        "print(\"Evaluation Report:\")\n",
        "print(classification_report(y_new_true, y_new_pred_df, target_names=['cv', 'hd', 'vo']))\n"
      ]
    },
    {
      "cell_type": "code",
      "execution_count": null,
      "metadata": {
        "id": "m6cmdfMYRdmq",
        "colab": {
          "base_uri": "https://localhost:8080/"
        },
        "outputId": "6bbb94a6-3fce-4a4c-9791-fdf13368ae2e"
      },
      "outputs": [
        {
          "output_type": "stream",
          "name": "stderr",
          "text": [
            "[nltk_data] Downloading package stopwords to /root/nltk_data...\n",
            "[nltk_data]   Package stopwords is already up-to-date!\n",
            "[nltk_data] Downloading package punkt to /root/nltk_data...\n",
            "[nltk_data]   Package punkt is already up-to-date!\n",
            "[nltk_data] Downloading package wordnet to /root/nltk_data...\n",
            "[nltk_data]   Package wordnet is already up-to-date!\n"
          ]
        },
        {
          "output_type": "stream",
          "name": "stdout",
          "text": [
            "Type a sentence to predict if it has any hate, violent speech, or bullying or type 'exit' to quit.\n",
            "Enter a sentence: I think americans are evil people\n",
            "Error: Feature mismatch! Got 4 features, but model expects 37154 features.\n",
            "Error: No valid prediction could be made.\n"
          ]
        }
      ],
      "source": [
        "import pandas as pd\n",
        "from sklearn.feature_extraction.text import TfidfVectorizer\n",
        "from transformers import pipeline\n",
        "from sklearn.linear_model import SGDClassifier\n",
        "from sklearn.multioutput import MultiOutputClassifier\n",
        "import pickle\n",
        "import numpy as np\n",
        "import re\n",
        "import string\n",
        "import nltk\n",
        "from nltk.corpus import stopwords\n",
        "from nltk.stem import WordNetLemmatizer\n",
        "nltk.download('stopwords')\n",
        "nltk.download('punkt')\n",
        "nltk.download('wordnet')\n",
        "\n",
        "\n",
        "sentiment_analyzer = pipeline(\"sentiment-analysis\", model=\"distilbert-base-uncased-finetuned-sst-2-english\")\n",
        "#loaad vectorizer\n",
        "with open('vectorizer.pkl', 'rb') as f:\n",
        "    vectorizer = pickle.load(f)\n",
        "#load classifier\n",
        "with open('sgd_clf.pkl', 'rb') as f:\n",
        "    sgd_clf = pickle.load(f)\n",
        "\n",
        "lemmatizer = WordNetLemmatizer()\n",
        "stop_words = set(stopwords.words('english'))\n",
        "\n",
        "def preprocess_text(text):\n",
        "    text = text.lower()\n",
        "# Remove URLs =\n",
        "    text = re.sub(r'http\\S+|www\\S+|https\\S+', '', text)\n",
        "\n",
        "    # Remove mentions\n",
        "    text = re.sub(r'@\\w+', '', text)\n",
        "\n",
        "    text = re.sub(r'#\\w+', '', text)\n",
        "\n",
        "    # Remove special characters and digits\n",
        "    text = re.sub(r'[^a-zA-Z\\s]', '', text)\n",
        "\n",
        "    # Tokenize the text (split into words)\n",
        "    tokens = nltk.word_tokenize(text)\n",
        "\n",
        "    # Remove stopwords\n",
        "    tokens = [word for word in tokens if word not in stop_words]\n",
        "\n",
        "    # Lemmatize words (reduce to their root form)\n",
        "    tokens = [lemmatizer.lemmatize(word) for word in tokens]\n",
        "\n",
        "    # Join tokens back into a single string\n",
        "    processed_text = ' '.join(tokens)\n",
        "\n",
        "    return processed_text\n",
        "\n",
        "\n",
        "def process_text_input(text):\n",
        "\n",
        "    text = preprocess_text(text)\n",
        "    #get sentiment\n",
        "    sentiment = sentiment_analyzer(text)\n",
        "    sentiment_label = 1 if sentiment[0]['label'].upper() == 'NEGATIVE' else 0\n",
        "\n",
        "    #TF-IDF\n",
        "    vectorizer.fit([text])\n",
        "    text_vec = vectorizer.transform([text]).toarray()\n",
        " #check the num of features matches the training feature space\n",
        "    expected_features = sgd_clf.estimators_[0].coef_.shape[1]\n",
        "    if text_vec.shape[1] != expected_features:\n",
        "        print(f\"Error: Feature mismatch! Got {text_vec.shape[1]} features, but model expects {expected_features} features.\")\n",
        "        return None\n",
        "\n",
        "    #prediction\n",
        "    prediction = sgd_clf.predict(text_vec)\n",
        "    if prediction is None:\n",
        "        print(\"Error: No prediction returned!\")\n",
        "        return None\n",
        "    return prediction[0]\n",
        "\n",
        "# User input and evaluation\n",
        "def evaluate_user_input():\n",
        "    print(\"Type a sentence to predict if it has any hate, violent speech, or bullying or type 'exit' to quit.\")\n",
        "\n",
        "    while True:\n",
        "        user_input = input(\"Enter a sentence: \").strip()\n",
        "        if user_input.lower() == 'exit':\n",
        "            print(\"Goodbye!\")\n",
        "            break\n",
        "\n",
        "        try:\n",
        "            prediction = process_text_input(user_input)\n",
        "            if prediction is not None:\n",
        "                print(f\"Predicted values: \\n hd={prediction[0]} \\n vo={prediction[1]} \\n cv={prediction[2]}\")\n",
        "            else:\n",
        "                print(\"Error: No valid prediction could be made.\")\n",
        "\n",
        "        except Exception as e:\n",
        "            print(f\"Error in processing input: {e}\")\n",
        "\n",
        "#evaluation\n",
        "evaluate_user_input()"
      ]
    },
    {
      "cell_type": "code",
      "source": [],
      "metadata": {
        "id": "VwYN7n4IuTSd"
      },
      "execution_count": null,
      "outputs": []
    }
  ],
  "metadata": {
    "colab": {
      "provenance": [],
      "authorship_tag": "ABX9TyPeET2uukFCDqJHXL6DR8mc",
      "include_colab_link": true
    },
    "kernelspec": {
      "display_name": "Python 3",
      "name": "python3"
    },
    "language_info": {
      "name": "python"
    }
  },
  "nbformat": 4,
  "nbformat_minor": 0
}